{
 "cells": [
  {
   "cell_type": "code",
   "execution_count": 1,
   "metadata": {},
   "outputs": [],
   "source": [
    "import findspark\n",
    "findspark.init()"
   ]
  },
  {
   "cell_type": "code",
   "execution_count": 2,
   "metadata": {},
   "outputs": [],
   "source": [
    "from pyspark.sql import SparkSession\n",
    "spark = SparkSession \\\n",
    "    .builder \\\n",
    "    .appName(\"Python Spark SQL basic\") \\\n",
    "    .getOrCreate()"
   ]
  },
  {
   "cell_type": "code",
   "execution_count": 3,
   "metadata": {},
   "outputs": [
    {
     "name": "stdout",
     "output_type": "stream",
     "text": [
      "+--------------+----------+------+----------+\n",
      "|        UserId| ProductId|Rating| Timestamp|\n",
      "+--------------+----------+------+----------+\n",
      "|A39HTATAQ9V7YF|0205616461|   5.0|1369699200|\n",
      "|A3JM6GV9MNOF9X|0558925278|   3.0|1355443200|\n",
      "|A1Z513UWSAAO0F|0558925278|   5.0|1404691200|\n",
      "|A1WMRR494NWEWV|0733001998|   4.0|1382572800|\n",
      "|A3IAAVS479H7M7|0737104473|   1.0|1274227200|\n",
      "| AKJHHD5VEH7VG|0762451459|   5.0|1404518400|\n",
      "|A1BG8QW55XHN6U|1304139212|   5.0|1371945600|\n",
      "|A22VW0P4VZHDE3|1304139220|   5.0|1373068800|\n",
      "|A3V3RE4132GKRO|130414089X|   5.0|1401840000|\n",
      "|A327B0I7CYTEJC|130414643X|   4.0|1389052800|\n",
      "|A1BG8QW55XHN6U|130414643X|   5.0|1372032000|\n",
      "| AIFAAVTUYHEHB|130414643X|   4.0|1378252800|\n",
      "| AVOGV98AYOFG2|1304146537|   5.0|1372118400|\n",
      "|A22VW0P4VZHDE3|130414674X|   5.0|1371686400|\n",
      "| AVOGV98AYOFG2|1304168522|   5.0|1372118400|\n",
      "| A6R426V4J7AOM|1304168522|   5.0|1373414400|\n",
      "|A22VW0P4VZHDE3|1304174778|   5.0|1372896000|\n",
      "| AKGB62WGF35J8|1304174778|   5.0|1372896000|\n",
      "|A22VW0P4VZHDE3|1304174867|   5.0|1373068800|\n",
      "|A1BG8QW55XHN6U|1304174867|   5.0|1372291200|\n",
      "+--------------+----------+------+----------+\n",
      "only showing top 20 rows\n",
      "\n"
     ]
    }
   ],
   "source": [
    "ratings = spark.read.csv(\"ratings_Beauty.csv\", header=True, inferSchema=True)\n",
    "ratings.show()"
   ]
  },
  {
   "cell_type": "code",
   "execution_count": 4,
   "metadata": {},
   "outputs": [],
   "source": [
    "ratings.createOrReplaceTempView(\"beauties\")"
   ]
  },
  {
   "cell_type": "code",
   "execution_count": 5,
   "metadata": {},
   "outputs": [
    {
     "name": "stdout",
     "output_type": "stream",
     "text": [
      "+--------------+\n",
      "|        UserId|\n",
      "+--------------+\n",
      "|A2HNQ3JHXDSVMW|\n",
      "|A2DOQ89OLXNHNL|\n",
      "|A17U6P3YQISHYH|\n",
      "|A189H8NPEQN58F|\n",
      "|A3UMVASITREVNQ|\n",
      "|A20DHG878IX2OE|\n",
      "|A1GAMBKLVMBTAC|\n",
      "|A3DDSAGWD0UN9H|\n",
      "| AY8MX1BFYICXC|\n",
      "|A2LF9DJ24VWY6O|\n",
      "|A2QPKW46MNWEBY|\n",
      "|A389H99XZRUOWE|\n",
      "|A222CH7IMYYY49|\n",
      "| AKDBMU0AIIBZV|\n",
      "|A2G6WDE7VCO8WR|\n",
      "|A263E8JYWMRP5V|\n",
      "|A2823NUWUHXMJM|\n",
      "|A18FTRFQQ141CP|\n",
      "|A2651ZXBNPFTSZ|\n",
      "|A3MG2ME0SETH33|\n",
      "+--------------+\n",
      "only showing top 20 rows\n",
      "\n"
     ]
    }
   ],
   "source": [
    "new_id = spark.sql(\"SELECT DISTINCT UserId FROM beauties\")\n",
    "new_id.show()"
   ]
  },
  {
   "cell_type": "code",
   "execution_count": 6,
   "metadata": {},
   "outputs": [],
   "source": [
    "new_id.createOrReplaceTempView(\"newId\")"
   ]
  },
  {
   "cell_type": "code",
   "execution_count": 7,
   "metadata": {},
   "outputs": [
    {
     "name": "stdout",
     "output_type": "stream",
     "text": [
      "+--------------------+-------+\n",
      "|              UserId|user_id|\n",
      "+--------------------+-------+\n",
      "|A00008821J0F472ND...|      1|\n",
      "|A000186437REL8X2R...|      2|\n",
      "|A0002574WYJMBWKNCPY8|      3|\n",
      "|A00029263J863WSR0...|      4|\n",
      "|A00031961JI1CBNV98TW|      5|\n",
      "|A000325234LCBTFVL...|      6|\n",
      "|A0003526DBE3EVU1DXE5|      7|\n",
      "|A0004690232S2SX49...|      8|\n",
      "|A000622834IP6B056...|      9|\n",
      "|A0007094NAUEOIOA53YH|     10|\n",
      "|A00088021N0VU5Z2U...|     11|\n",
      "|A0010876CNE3ILIM9HV0|     12|\n",
      "|A0011102257KBXODK...|     13|\n",
      "|A001114613O3F18Q5...|     14|\n",
      "|A00116502XCN8ZW09...|     15|\n",
      "|A00120381FL204MYH...|     16|\n",
      "|A001235832OWO8HZG...|     17|\n",
      "|A00125322X21CGQBJ...|     18|\n",
      "|A00126503SUWI86KZ...|     19|\n",
      "|A00144702V3Q8N2EJ...|     20|\n",
      "+--------------------+-------+\n",
      "only showing top 20 rows\n",
      "\n"
     ]
    }
   ],
   "source": [
    "new_user_id = spark.sql(\"SELECT UserId, ROW_NUMBER() OVER (ORDER BY UserId) AS user_id FROM newId\")\n",
    "new_user_id.show()"
   ]
  },
  {
   "cell_type": "code",
   "execution_count": 8,
   "metadata": {},
   "outputs": [
    {
     "name": "stdout",
     "output_type": "stream",
     "text": [
      "+--------------------+----------+------+----------+--------------------+-------+\n",
      "|              UserId| ProductId|Rating| Timestamp|              UserId|user_id|\n",
      "+--------------------+----------+------+----------+--------------------+-------+\n",
      "|A0061198154UGJDK6...|B007UK1ABG|   5.0|1378252800|A0061198154UGJDK6...|     98|\n",
      "|A0061198154UGJDK6...|B009Q1YPV4|   1.0|1378252800|A0061198154UGJDK6...|     98|\n",
      "|A022858327OPV8WND...|B00AG4QCAM|   1.0|1402358400|A022858327OPV8WND...|    361|\n",
      "|A0232781C6JWW3M9F7LP|B0036B3C0A|   1.0|1385337600|A0232781C6JWW3M9F7LP|    368|\n",
      "|A0232781C6JWW3M9F7LP|B003JN6I0G|   1.0|1400803200|A0232781C6JWW3M9F7LP|    368|\n",
      "|A0232781C6JWW3M9F7LP|B009CJHXDW|   1.0|1391990400|A0232781C6JWW3M9F7LP|    368|\n",
      "|A0232781C6JWW3M9F7LP|B00DZZETZ4|   1.0|1385337600|A0232781C6JWW3M9F7LP|    368|\n",
      "|A02680541GF3IVW82...|B002BGDLDO|   5.0|1393977600|A02680541GF3IVW82...|    418|\n",
      "|A02680541GF3IVW82...|B004ZC13OG|   4.0|1393977600|A02680541GF3IVW82...|    418|\n",
      "|A02680541GF3IVW82...|B00538TSMU|   5.0|1393977600|A02680541GF3IVW82...|    418|\n",
      "|A02680541GF3IVW82...|B0073GFTBO|   5.0|1382918400|A02680541GF3IVW82...|    418|\n",
      "|A02680541GF3IVW82...|B00BQ76XK2|   3.0|1393977600|A02680541GF3IVW82...|    418|\n",
      "|A05687443B5NLJHER...|B0092LDWWQ|   4.0|1354233600|A05687443B5NLJHER...|    894|\n",
      "|A06661002R54BLOVW...|B0065JCV84|   5.0|1396915200|A06661002R54BLOVW...|   1053|\n",
      "|A07113483G08JA5PJ...|B007XBR8HW|   1.0|1389657600|A07113483G08JA5PJ...|   1134|\n",
      "|A07942882UA19BLQO...|B00L5JHZJO|   5.0|1397692800|A07942882UA19BLQO...|   1275|\n",
      "|      A100JSLU0DKS1Z|B001AO0WCG|   5.0|1287360000|      A100JSLU0DKS1Z|   1769|\n",
      "|      A101JY57A93Q3J|B001LQY1X4|   3.0|1353283200|      A101JY57A93Q3J|   2035|\n",
      "|      A101U3FMNUDTU3|B002RL8IZ4|   5.0|1353110400|      A101U3FMNUDTU3|   2098|\n",
      "|      A1025ZA8TGG21H|B000GCW3XE|   5.0|1344470400|      A1025ZA8TGG21H|   2171|\n",
      "+--------------------+----------+------+----------+--------------------+-------+\n",
      "only showing top 20 rows\n",
      "\n"
     ]
    }
   ],
   "source": [
    "ratings = ratings.join(new_user_id, ratings.UserId == new_user_id.UserId)\n",
    "ratings.show()"
   ]
  },
  {
   "cell_type": "code",
   "execution_count": 9,
   "metadata": {},
   "outputs": [],
   "source": [
    "ratings.createOrReplaceTempView(\"ratings\")"
   ]
  },
  {
   "cell_type": "code",
   "execution_count": 10,
   "metadata": {},
   "outputs": [
    {
     "name": "stdout",
     "output_type": "stream",
     "text": [
      "+----------+\n",
      "| ProductId|\n",
      "+----------+\n",
      "|B0022TISQU|\n",
      "|B002W5VUEG|\n",
      "|B004KEKDWW|\n",
      "|B007HKO692|\n",
      "|B001JQLNJQ|\n",
      "|B005UBN3L2|\n",
      "|B00HHR0SYW|\n",
      "|B002P9RSV8|\n",
      "|B00EABZTBU|\n",
      "|B006Z9VRQQ|\n",
      "|B002BALCSQ|\n",
      "|B000R961M0|\n",
      "|B000WY3AGA|\n",
      "|B007QVKAT2|\n",
      "|B0050DEPMQ|\n",
      "|B005EMSGDW|\n",
      "|B001PDDEVS|\n",
      "|B006UETRWC|\n",
      "|B004D7I7CO|\n",
      "|B004O3X8NU|\n",
      "+----------+\n",
      "only showing top 20 rows\n",
      "\n"
     ]
    }
   ],
   "source": [
    "new_id2 = spark.sql(\"SELECT DISTINCT ProductId FROM ratings\")\n",
    "new_id2.show()"
   ]
  },
  {
   "cell_type": "code",
   "execution_count": 12,
   "metadata": {},
   "outputs": [],
   "source": [
    "new_id2.createOrReplaceTempView(\"newId2\")"
   ]
  },
  {
   "cell_type": "code",
   "execution_count": 15,
   "metadata": {},
   "outputs": [
    {
     "name": "stdout",
     "output_type": "stream",
     "text": [
      "+----------+----------+\n",
      "| ProductId|product_id|\n",
      "+----------+----------+\n",
      "|0205616461|         1|\n",
      "|0558925278|         2|\n",
      "|0733001998|         3|\n",
      "|0737104473|         4|\n",
      "|0762451459|         5|\n",
      "|1304139212|         6|\n",
      "|1304139220|         7|\n",
      "|130414089X|         8|\n",
      "|130414643X|         9|\n",
      "|1304146537|        10|\n",
      "|130414674X|        11|\n",
      "|1304168522|        12|\n",
      "|1304174778|        13|\n",
      "|1304174867|        14|\n",
      "|1304174905|        15|\n",
      "|1304196046|        16|\n",
      "|1304196062|        17|\n",
      "|1304196070|        18|\n",
      "|1304196135|        19|\n",
      "|1304351475|        20|\n",
      "+----------+----------+\n",
      "only showing top 20 rows\n",
      "\n"
     ]
    }
   ],
   "source": [
    "new_product_id = spark.sql(\"SELECT ProductId, ROW_NUMBER() OVER (ORDER BY ProductId) AS product_id FROM newId2\")\n",
    "new_product_id.show()"
   ]
  },
  {
   "cell_type": "code",
   "execution_count": 17,
   "metadata": {},
   "outputs": [
    {
     "name": "stdout",
     "output_type": "stream",
     "text": [
      "+--------------+----------+------+----------+--------------+-------+----------+----------+\n",
      "|        UserId| ProductId|Rating| Timestamp|        UserId|user_id| ProductId|product_id|\n",
      "+--------------+----------+------+----------+--------------+-------+----------+----------+\n",
      "|A1944K0ACKLRPO|9790773587|   5.0|1395360000|A1944K0ACKLRPO|  82215|9790773587|       317|\n",
      "|A2RH4CO0C7BANY|9790794207|   5.0|1404345600|A2RH4CO0C7BANY| 564839|9790794207|       546|\n",
      "|A30GBW6NS6G0M1|9790794207|   5.0|1399075200|A30GBW6NS6G0M1| 644681|9790794207|       546|\n",
      "|A3CN9CCJUNIPKT|B00004VBMM|   5.0|1027468800|A3CN9CCJUNIPKT| 753007|B00004VBMM|       713|\n",
      "| A3RGMC0XTC3U8|B00004WFUZ|   5.0|1354060800| A3RGMC0XTC3U8| 884027|B00004WFUZ|       715|\n",
      "|A1M9ENNZL8G94U|B00004WFUZ|   5.0|1366156800|A1M9ENNZL8G94U| 198713|B00004WFUZ|       715|\n",
      "|A1TNBKPG7UL8IY|B000052YQV|   5.0|1088640000|A1TNBKPG7UL8IY| 264598|B000052YQV|       894|\n",
      "|A25JO9HII0RZCL|B000052ZBD|   5.0|1338854400|A25JO9HII0RZCL| 369615|B000052ZBD|       925|\n",
      "|A1XRNH1VC2MSFR|B000052ZBD|   4.0|1202947200|A1XRNH1VC2MSFR| 301122|B000052ZBD|       925|\n",
      "|A3PWEXDTHKEM5T|B000052ZBD|   5.0|1357171200|A3PWEXDTHKEM5T| 870123|B000052ZBD|       925|\n",
      "| AQ2SL4GPDPYNE|B000052ZBD|   4.0|1200528000| AQ2SL4GPDPYNE|1122534|B000052ZBD|       925|\n",
      "|A1RF8OE4IQ1H0V|B000052ZBD|   5.0|1371600000|A1RF8OE4IQ1H0V| 244859|B000052ZBD|       925|\n",
      "|A1C239TBE1ZV75|B000052ZBD|   4.0|1401667200|A1C239TBE1ZV75| 108213|B000052ZBD|       925|\n",
      "|A2KVROOHCZEY1O|B000052ZBD|   5.0|1372896000|A2KVROOHCZEY1O| 505886|B000052ZBD|       925|\n",
      "|A2Y78JXTQ0C2F4|B000052ZBD|   5.0|1229212800|A2Y78JXTQ0C2F4| 624684|B000052ZBD|       925|\n",
      "|A2KYRX7NSLWC7U|B000052ZBD|   5.0|1126656000|A2KYRX7NSLWC7U| 506632|B000052ZBD|       925|\n",
      "|A2TEC0CJ52HVUF|B000052ZBD|   5.0|1249948800|A2TEC0CJ52HVUF| 581915|B000052ZBD|       925|\n",
      "|A28FDLTPS25QD3|B000052ZBD|   5.0|1404518400|A28FDLTPS25QD3| 394916|B000052ZBD|       925|\n",
      "|A1QHU4MJJ6ERJK|B000052ZBD|   5.0|1162771200|A1QHU4MJJ6ERJK| 236631|B000052ZBD|       925|\n",
      "|A2HKU4SOT0CWG9|B000052ZBD|   5.0|1258588800|A2HKU4SOT0CWG9| 476643|B000052ZBD|       925|\n",
      "+--------------+----------+------+----------+--------------+-------+----------+----------+\n",
      "only showing top 20 rows\n",
      "\n"
     ]
    }
   ],
   "source": [
    "ratings = ratings.join(new_product_id, ratings.ProductId == new_product_id.ProductId)\n",
    "ratings.show()"
   ]
  },
  {
   "cell_type": "code",
   "execution_count": 18,
   "metadata": {},
   "outputs": [],
   "source": [
    "ratings = ratings.select('user_id', 'product_id', 'Rating')"
   ]
  },
  {
   "cell_type": "code",
   "execution_count": 19,
   "metadata": {},
   "outputs": [],
   "source": [
    "ratings = ratings.withColumnRenamed('user_id', 'UserId')\n",
    "ratings = ratings.withColumnRenamed('product_id', 'ProductId')"
   ]
  },
  {
   "cell_type": "code",
   "execution_count": 20,
   "metadata": {},
   "outputs": [
    {
     "name": "stdout",
     "output_type": "stream",
     "text": [
      "+-------+---------+------+\n",
      "| UserId|ProductId|Rating|\n",
      "+-------+---------+------+\n",
      "|  82215|      317|   5.0|\n",
      "| 564839|      546|   5.0|\n",
      "| 644681|      546|   5.0|\n",
      "| 753007|      713|   5.0|\n",
      "| 884027|      715|   5.0|\n",
      "| 198713|      715|   5.0|\n",
      "| 264598|      894|   5.0|\n",
      "| 369615|      925|   5.0|\n",
      "| 301122|      925|   4.0|\n",
      "| 870123|      925|   5.0|\n",
      "|1122534|      925|   4.0|\n",
      "| 244859|      925|   5.0|\n",
      "| 108213|      925|   4.0|\n",
      "| 505886|      925|   5.0|\n",
      "| 624684|      925|   5.0|\n",
      "| 506632|      925|   5.0|\n",
      "| 581915|      925|   5.0|\n",
      "| 394916|      925|   5.0|\n",
      "| 236631|      925|   5.0|\n",
      "| 476643|      925|   5.0|\n",
      "+-------+---------+------+\n",
      "only showing top 20 rows\n",
      "\n"
     ]
    }
   ],
   "source": [
    "ratings.show()"
   ]
  },
  {
   "cell_type": "code",
   "execution_count": 21,
   "metadata": {},
   "outputs": [],
   "source": [
    "query1 = ratings.select('UserId', 'ProductId', 'Rating')"
   ]
  },
  {
   "cell_type": "code",
   "execution_count": 22,
   "metadata": {},
   "outputs": [
    {
     "name": "stdout",
     "output_type": "stream",
     "text": [
      "+-------+---------+------+\n",
      "| UserId|ProductId|Rating|\n",
      "+-------+---------+------+\n",
      "|  82215|      317|   5.0|\n",
      "| 564839|      546|   5.0|\n",
      "| 644681|      546|   5.0|\n",
      "| 753007|      713|   5.0|\n",
      "| 884027|      715|   5.0|\n",
      "| 198713|      715|   5.0|\n",
      "| 264598|      894|   5.0|\n",
      "| 369615|      925|   5.0|\n",
      "| 301122|      925|   4.0|\n",
      "| 870123|      925|   5.0|\n",
      "|1122534|      925|   4.0|\n",
      "| 244859|      925|   5.0|\n",
      "| 108213|      925|   4.0|\n",
      "| 505886|      925|   5.0|\n",
      "| 624684|      925|   5.0|\n",
      "| 506632|      925|   5.0|\n",
      "| 581915|      925|   5.0|\n",
      "| 394916|      925|   5.0|\n",
      "| 236631|      925|   5.0|\n",
      "| 476643|      925|   5.0|\n",
      "+-------+---------+------+\n",
      "only showing top 20 rows\n",
      "\n"
     ]
    }
   ],
   "source": [
    "query1.show()"
   ]
  },
  {
   "cell_type": "code",
   "execution_count": 23,
   "metadata": {},
   "outputs": [],
   "source": [
    "# Convert to Pandas\n",
    "import pandas as pd\n",
    "query1Pandas = query1.toPandas()"
   ]
  },
  {
   "cell_type": "code",
   "execution_count": 24,
   "metadata": {},
   "outputs": [],
   "source": [
    "# Save to single CSV\n",
    "query1Pandas.to_csv(\"D:\\\\Spark\\\\FP\\\\dataset\\\\beauty_ratings.csv\", index=False)"
   ]
  },
  {
   "cell_type": "code",
   "execution_count": null,
   "metadata": {},
   "outputs": [],
   "source": []
  }
 ],
 "metadata": {
  "kernelspec": {
   "display_name": "Python 3",
   "language": "python",
   "name": "python3"
  },
  "language_info": {
   "codemirror_mode": {
    "name": "ipython",
    "version": 3
   },
   "file_extension": ".py",
   "mimetype": "text/x-python",
   "name": "python",
   "nbconvert_exporter": "python",
   "pygments_lexer": "ipython3",
   "version": "3.6.4"
  }
 },
 "nbformat": 4,
 "nbformat_minor": 2
}
