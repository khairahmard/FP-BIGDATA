{
 "cells": [
  {
   "cell_type": "code",
   "execution_count": 1,
   "metadata": {},
   "outputs": [],
   "source": [
    "import findspark\n",
    "findspark.init()"
   ]
  },
  {
   "cell_type": "code",
   "execution_count": 2,
   "metadata": {},
   "outputs": [],
   "source": [
    "from pyspark.sql import SparkSession\n",
    "spark = SparkSession \\\n",
    "    .builder \\\n",
    "    .appName(\"Python Spark SQL basic\") \\\n",
    "    .getOrCreate()"
   ]
  },
  {
   "cell_type": "markdown",
   "metadata": {},
   "source": [
    "## Preprocessing"
   ]
  },
  {
   "cell_type": "code",
   "execution_count": 3,
   "metadata": {},
   "outputs": [
    {
     "name": "stdout",
     "output_type": "stream",
     "text": [
      "+--------------+----------+------+----------+\n",
      "|        UserId| ProductId|Rating| Timestamp|\n",
      "+--------------+----------+------+----------+\n",
      "|A39HTATAQ9V7YF|0205616461|   5.0|1369699200|\n",
      "|A3JM6GV9MNOF9X|0558925278|   3.0|1355443200|\n",
      "|A1Z513UWSAAO0F|0558925278|   5.0|1404691200|\n",
      "|A1WMRR494NWEWV|0733001998|   4.0|1382572800|\n",
      "|A3IAAVS479H7M7|0737104473|   1.0|1274227200|\n",
      "| AKJHHD5VEH7VG|0762451459|   5.0|1404518400|\n",
      "|A1BG8QW55XHN6U|1304139212|   5.0|1371945600|\n",
      "|A22VW0P4VZHDE3|1304139220|   5.0|1373068800|\n",
      "|A3V3RE4132GKRO|130414089X|   5.0|1401840000|\n",
      "|A327B0I7CYTEJC|130414643X|   4.0|1389052800|\n",
      "|A1BG8QW55XHN6U|130414643X|   5.0|1372032000|\n",
      "| AIFAAVTUYHEHB|130414643X|   4.0|1378252800|\n",
      "| AVOGV98AYOFG2|1304146537|   5.0|1372118400|\n",
      "|A22VW0P4VZHDE3|130414674X|   5.0|1371686400|\n",
      "| AVOGV98AYOFG2|1304168522|   5.0|1372118400|\n",
      "| A6R426V4J7AOM|1304168522|   5.0|1373414400|\n",
      "|A22VW0P4VZHDE3|1304174778|   5.0|1372896000|\n",
      "| AKGB62WGF35J8|1304174778|   5.0|1372896000|\n",
      "|A22VW0P4VZHDE3|1304174867|   5.0|1373068800|\n",
      "|A1BG8QW55XHN6U|1304174867|   5.0|1372291200|\n",
      "+--------------+----------+------+----------+\n",
      "only showing top 20 rows\n",
      "\n"
     ]
    }
   ],
   "source": [
    "ratings = spark.read.csv(\"ratings_Beauty.csv\", header=True, inferSchema=True)\n",
    "ratings.show()"
   ]
  },
  {
   "cell_type": "code",
   "execution_count": 4,
   "metadata": {},
   "outputs": [],
   "source": [
    "ratings.createOrReplaceTempView(\"beauties\")"
   ]
  },
  {
   "cell_type": "code",
   "execution_count": 5,
   "metadata": {},
   "outputs": [
    {
     "name": "stdout",
     "output_type": "stream",
     "text": [
      "+--------------+\n",
      "|        UserId|\n",
      "+--------------+\n",
      "|A2HNQ3JHXDSVMW|\n",
      "|A2DOQ89OLXNHNL|\n",
      "|A17U6P3YQISHYH|\n",
      "|A189H8NPEQN58F|\n",
      "|A3UMVASITREVNQ|\n",
      "|A20DHG878IX2OE|\n",
      "|A1GAMBKLVMBTAC|\n",
      "|A3DDSAGWD0UN9H|\n",
      "| AY8MX1BFYICXC|\n",
      "|A2LF9DJ24VWY6O|\n",
      "|A2QPKW46MNWEBY|\n",
      "|A389H99XZRUOWE|\n",
      "|A222CH7IMYYY49|\n",
      "| AKDBMU0AIIBZV|\n",
      "|A2G6WDE7VCO8WR|\n",
      "|A263E8JYWMRP5V|\n",
      "|A2823NUWUHXMJM|\n",
      "|A18FTRFQQ141CP|\n",
      "|A2651ZXBNPFTSZ|\n",
      "|A3MG2ME0SETH33|\n",
      "+--------------+\n",
      "only showing top 20 rows\n",
      "\n"
     ]
    }
   ],
   "source": [
    "new_id = spark.sql(\"SELECT DISTINCT UserId FROM beauties\")\n",
    "new_id.show()"
   ]
  },
  {
   "cell_type": "code",
   "execution_count": 6,
   "metadata": {},
   "outputs": [],
   "source": [
    "new_id.createOrReplaceTempView(\"newId\")"
   ]
  },
  {
   "cell_type": "code",
   "execution_count": 7,
   "metadata": {},
   "outputs": [
    {
     "name": "stdout",
     "output_type": "stream",
     "text": [
      "+--------------------+-------+\n",
      "|              UserId|user_id|\n",
      "+--------------------+-------+\n",
      "|A00008821J0F472ND...|      1|\n",
      "|A000186437REL8X2R...|      2|\n",
      "|A0002574WYJMBWKNCPY8|      3|\n",
      "|A00029263J863WSR0...|      4|\n",
      "|A00031961JI1CBNV98TW|      5|\n",
      "|A000325234LCBTFVL...|      6|\n",
      "|A0003526DBE3EVU1DXE5|      7|\n",
      "|A0004690232S2SX49...|      8|\n",
      "|A000622834IP6B056...|      9|\n",
      "|A0007094NAUEOIOA53YH|     10|\n",
      "|A00088021N0VU5Z2U...|     11|\n",
      "|A0010876CNE3ILIM9HV0|     12|\n",
      "|A0011102257KBXODK...|     13|\n",
      "|A001114613O3F18Q5...|     14|\n",
      "|A00116502XCN8ZW09...|     15|\n",
      "|A00120381FL204MYH...|     16|\n",
      "|A001235832OWO8HZG...|     17|\n",
      "|A00125322X21CGQBJ...|     18|\n",
      "|A00126503SUWI86KZ...|     19|\n",
      "|A00144702V3Q8N2EJ...|     20|\n",
      "+--------------------+-------+\n",
      "only showing top 20 rows\n",
      "\n"
     ]
    }
   ],
   "source": [
    "new_user_id = spark.sql(\"SELECT UserId, ROW_NUMBER() OVER (ORDER BY UserId) AS user_id FROM newId\")\n",
    "new_user_id.show()"
   ]
  },
  {
   "cell_type": "code",
   "execution_count": 8,
   "metadata": {},
   "outputs": [
    {
     "name": "stdout",
     "output_type": "stream",
     "text": [
      "+--------------------+----------+------+----------+--------------------+-------+\n",
      "|              UserId| ProductId|Rating| Timestamp|              UserId|user_id|\n",
      "+--------------------+----------+------+----------+--------------------+-------+\n",
      "|A0061198154UGJDK6...|B007UK1ABG|   5.0|1378252800|A0061198154UGJDK6...|     98|\n",
      "|A0061198154UGJDK6...|B009Q1YPV4|   1.0|1378252800|A0061198154UGJDK6...|     98|\n",
      "|A022858327OPV8WND...|B00AG4QCAM|   1.0|1402358400|A022858327OPV8WND...|    361|\n",
      "|A0232781C6JWW3M9F7LP|B0036B3C0A|   1.0|1385337600|A0232781C6JWW3M9F7LP|    368|\n",
      "|A0232781C6JWW3M9F7LP|B003JN6I0G|   1.0|1400803200|A0232781C6JWW3M9F7LP|    368|\n",
      "|A0232781C6JWW3M9F7LP|B009CJHXDW|   1.0|1391990400|A0232781C6JWW3M9F7LP|    368|\n",
      "|A0232781C6JWW3M9F7LP|B00DZZETZ4|   1.0|1385337600|A0232781C6JWW3M9F7LP|    368|\n",
      "|A02680541GF3IVW82...|B002BGDLDO|   5.0|1393977600|A02680541GF3IVW82...|    418|\n",
      "|A02680541GF3IVW82...|B004ZC13OG|   4.0|1393977600|A02680541GF3IVW82...|    418|\n",
      "|A02680541GF3IVW82...|B00538TSMU|   5.0|1393977600|A02680541GF3IVW82...|    418|\n",
      "|A02680541GF3IVW82...|B0073GFTBO|   5.0|1382918400|A02680541GF3IVW82...|    418|\n",
      "|A02680541GF3IVW82...|B00BQ76XK2|   3.0|1393977600|A02680541GF3IVW82...|    418|\n",
      "|A05687443B5NLJHER...|B0092LDWWQ|   4.0|1354233600|A05687443B5NLJHER...|    894|\n",
      "|A06661002R54BLOVW...|B0065JCV84|   5.0|1396915200|A06661002R54BLOVW...|   1053|\n",
      "|A07113483G08JA5PJ...|B007XBR8HW|   1.0|1389657600|A07113483G08JA5PJ...|   1134|\n",
      "|A07942882UA19BLQO...|B00L5JHZJO|   5.0|1397692800|A07942882UA19BLQO...|   1275|\n",
      "|      A100JSLU0DKS1Z|B001AO0WCG|   5.0|1287360000|      A100JSLU0DKS1Z|   1769|\n",
      "|      A101JY57A93Q3J|B001LQY1X4|   3.0|1353283200|      A101JY57A93Q3J|   2035|\n",
      "|      A101U3FMNUDTU3|B002RL8IZ4|   5.0|1353110400|      A101U3FMNUDTU3|   2098|\n",
      "|      A1025ZA8TGG21H|B000GCW3XE|   5.0|1344470400|      A1025ZA8TGG21H|   2171|\n",
      "+--------------------+----------+------+----------+--------------------+-------+\n",
      "only showing top 20 rows\n",
      "\n"
     ]
    }
   ],
   "source": [
    "ratings = ratings.join(new_user_id, ratings.UserId == new_user_id.UserId)\n",
    "ratings.show()"
   ]
  },
  {
   "cell_type": "code",
   "execution_count": 9,
   "metadata": {},
   "outputs": [],
   "source": [
    "ratings = ratings.select('user_id', 'ProductId', 'Rating')"
   ]
  },
  {
   "cell_type": "code",
   "execution_count": 10,
   "metadata": {},
   "outputs": [
    {
     "name": "stdout",
     "output_type": "stream",
     "text": [
      "+------+----------+------+\n",
      "|UserId| ProductId|Rating|\n",
      "+------+----------+------+\n",
      "|    98|B007UK1ABG|   5.0|\n",
      "|    98|B009Q1YPV4|   1.0|\n",
      "|   361|B00AG4QCAM|   1.0|\n",
      "|   368|B0036B3C0A|   1.0|\n",
      "|   368|B003JN6I0G|   1.0|\n",
      "|   368|B009CJHXDW|   1.0|\n",
      "|   368|B00DZZETZ4|   1.0|\n",
      "|   418|B002BGDLDO|   5.0|\n",
      "|   418|B004ZC13OG|   4.0|\n",
      "|   418|B00538TSMU|   5.0|\n",
      "|   418|B0073GFTBO|   5.0|\n",
      "|   418|B00BQ76XK2|   3.0|\n",
      "|   894|B0092LDWWQ|   4.0|\n",
      "|  1053|B0065JCV84|   5.0|\n",
      "|  1134|B007XBR8HW|   1.0|\n",
      "|  1275|B00L5JHZJO|   5.0|\n",
      "|  1769|B001AO0WCG|   5.0|\n",
      "|  2035|B001LQY1X4|   3.0|\n",
      "|  2098|B002RL8IZ4|   5.0|\n",
      "|  2171|B000GCW3XE|   5.0|\n",
      "+------+----------+------+\n",
      "only showing top 20 rows\n",
      "\n"
     ]
    }
   ],
   "source": [
    "ratings = ratings.withColumnRenamed('user_id', 'UserId')\n",
    "ratings.show()"
   ]
  },
  {
   "cell_type": "code",
   "execution_count": 15,
   "metadata": {},
   "outputs": [],
   "source": [
    "query1 = ratings.select('UserId', 'ProductId', 'Rating')"
   ]
  },
  {
   "cell_type": "code",
   "execution_count": 16,
   "metadata": {},
   "outputs": [
    {
     "name": "stdout",
     "output_type": "stream",
     "text": [
      "+------+----------+------+\n",
      "|UserId| ProductId|Rating|\n",
      "+------+----------+------+\n",
      "|    98|B007UK1ABG|   5.0|\n",
      "|    98|B009Q1YPV4|   1.0|\n",
      "|   361|B00AG4QCAM|   1.0|\n",
      "|   368|B0036B3C0A|   1.0|\n",
      "|   368|B003JN6I0G|   1.0|\n",
      "|   368|B009CJHXDW|   1.0|\n",
      "|   368|B00DZZETZ4|   1.0|\n",
      "|   418|B002BGDLDO|   5.0|\n",
      "|   418|B004ZC13OG|   4.0|\n",
      "|   418|B00538TSMU|   5.0|\n",
      "|   418|B0073GFTBO|   5.0|\n",
      "|   418|B00BQ76XK2|   3.0|\n",
      "|   894|B0092LDWWQ|   4.0|\n",
      "|  1053|B0065JCV84|   5.0|\n",
      "|  1134|B007XBR8HW|   1.0|\n",
      "|  1275|B00L5JHZJO|   5.0|\n",
      "|  1769|B001AO0WCG|   5.0|\n",
      "|  2035|B001LQY1X4|   3.0|\n",
      "|  2098|B002RL8IZ4|   5.0|\n",
      "|  2171|B000GCW3XE|   5.0|\n",
      "+------+----------+------+\n",
      "only showing top 20 rows\n",
      "\n"
     ]
    }
   ],
   "source": [
    "query1.show()"
   ]
  },
  {
   "cell_type": "code",
   "execution_count": 19,
   "metadata": {},
   "outputs": [],
   "source": [
    "# Convert to Pandas\n",
    "import pandas as pd\n",
    "query1Pandas = query1.toPandas()"
   ]
  },
  {
   "cell_type": "code",
   "execution_count": 22,
   "metadata": {},
   "outputs": [],
   "source": [
    "# Save to single CSV\n",
    "query1Pandas.to_csv(\"D:/Tools/FP/dataset/beauty_ratings.csv\", index=False)"
   ]
  },
  {
   "cell_type": "code",
   "execution_count": null,
   "metadata": {},
   "outputs": [],
   "source": []
  }
 ],
 "metadata": {
  "kernelspec": {
   "display_name": "Python 3",
   "language": "python",
   "name": "python3"
  },
  "language_info": {
   "codemirror_mode": {
    "name": "ipython",
    "version": 3
   },
   "file_extension": ".py",
   "mimetype": "text/x-python",
   "name": "python",
   "nbconvert_exporter": "python",
   "pygments_lexer": "ipython3",
   "version": "3.6.4"
  }
 },
 "nbformat": 4,
 "nbformat_minor": 2
}
